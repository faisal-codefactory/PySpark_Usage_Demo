{
 "cells": [
  {
   "cell_type": "markdown",
   "id": "628bb339-26c5-44be-954b-a585c8d13acc",
   "metadata": {},
   "source": [
    "### PySpark Joins"
   ]
  },
  {
   "cell_type": "markdown",
   "id": "b4aa7983-0612-4885-82c3-0d1c375c2f91",
   "metadata": {},
   "source": [
    "Data analysis usually entails working with multiple datasets or tables. Joining data frames is a common operation when working with related tables. There are multiple ways to join Dataframes (Tables).\n",
    "- inner Join\n",
    "- Left Outer Join\n",
    "- Right Outer Join\n",
    "- Full Outer Join\n",
    "<br> \n",
    "At the most basic level, a join operation is a way to take the data from one data frame and link it to another one according to a set of rules"
   ]
  },
  {
   "cell_type": "code",
   "execution_count": 1,
   "id": "91261838-2881-4150-90cc-f5c5f0601275",
   "metadata": {},
   "outputs": [],
   "source": [
    "from pyspark.sql import SparkSession\n",
    "spark = ( SparkSession.builder\n",
    "         .appName('Table Joins')\n",
    "         .getOrCreate()\n",
    "        )"
   ]
  },
  {
   "cell_type": "code",
   "execution_count": 2,
   "id": "a1d1c350-b064-4bb0-a30e-1122644d0bce",
   "metadata": {},
   "outputs": [
    {
     "name": "stdout",
     "output_type": "stream",
     "text": [
      "root\n",
      " |-- emp_id: long (nullable = true)\n",
      " |-- name: string (nullable = true)\n",
      " |-- superior_emp_id: long (nullable = true)\n",
      " |-- year_joined: string (nullable = true)\n",
      " |-- emp_dept_id: string (nullable = true)\n",
      " |-- gender: string (nullable = true)\n",
      " |-- salary: long (nullable = true)\n",
      "\n",
      "+------+--------+---------------+-----------+-----------+------+------+\n",
      "|emp_id|name    |superior_emp_id|year_joined|emp_dept_id|gender|salary|\n",
      "+------+--------+---------------+-----------+-----------+------+------+\n",
      "|1     |Smith   |-1             |2018       |10         |M     |3000  |\n",
      "|2     |Rose    |1              |2010       |20         |M     |4000  |\n",
      "|3     |Williams|1              |2010       |10         |M     |1000  |\n",
      "|4     |Jones   |2              |2005       |10         |F     |2000  |\n",
      "|5     |Brown   |2              |2010       |40         |      |-1    |\n",
      "|6     |Brown   |2              |2010       |50         |      |-1    |\n",
      "+------+--------+---------------+-----------+-----------+------+------+\n",
      "\n"
     ]
    }
   ],
   "source": [
    "emp = [(1,\"Smith\",-1,\"2018\",\"10\",\"M\",3000), \\\n",
    "    (2,\"Rose\",1,\"2010\",\"20\",\"M\",4000), \\\n",
    "    (3,\"Williams\",1,\"2010\",\"10\",\"M\",1000), \\\n",
    "    (4,\"Jones\",2,\"2005\",\"10\",\"F\",2000), \\\n",
    "    (5,\"Brown\",2,\"2010\",\"40\",\"\",-1), \\\n",
    "      (6,\"Brown\",2,\"2010\",\"50\",\"\",-1) \\\n",
    "  ]\n",
    "empColumns = [\"emp_id\",\"name\",\"superior_emp_id\",\"year_joined\", \\\n",
    "       \"emp_dept_id\",\"gender\",\"salary\"]\n",
    "empDF = spark.createDataFrame(data=emp, schema = empColumns)\n",
    "empDF.printSchema()\n",
    "empDF.show(truncate=False)"
   ]
  },
  {
   "cell_type": "code",
   "execution_count": 3,
   "id": "c071facd-bc78-4119-a370-4a6fffd9d096",
   "metadata": {},
   "outputs": [
    {
     "name": "stdout",
     "output_type": "stream",
     "text": [
      "root\n",
      " |-- dept_name: string (nullable = true)\n",
      " |-- dept_id: long (nullable = true)\n",
      "\n",
      "+---------+-------+\n",
      "|dept_name|dept_id|\n",
      "+---------+-------+\n",
      "|Finance  |10     |\n",
      "|Marketing|20     |\n",
      "|Sales    |30     |\n",
      "|IT       |40     |\n",
      "+---------+-------+\n",
      "\n"
     ]
    }
   ],
   "source": [
    "import pyspark.sql.functions as F\n",
    "dept = [(\"Finance\",10), \\\n",
    "    (\"Marketing\",20), \\\n",
    "    (\"Sales\",30), \\\n",
    "    (\"IT\",40) \\\n",
    "  ]\n",
    "deptColumns = [\"dept_name\",\"dept_id\"]\n",
    "deptDF = spark.createDataFrame(data=dept, schema = deptColumns)\n",
    "deptDF.printSchema()\n",
    "deptDF.show(truncate=False)"
   ]
  },
  {
   "cell_type": "markdown",
   "id": "9ea39536-c783-4f19-8733-4271a40b939a",
   "metadata": {},
   "source": [
    "## Recipe of Joins"
   ]
  },
  {
   "cell_type": "markdown",
   "id": "3d59bda2-765f-45ee-b908-04314ad071e1",
   "metadata": {},
   "source": [
    "We Have now two tables.\n",
    "- empDF\n",
    "- deptDF    \n",
    "we are now ready to start __Joins__. A join operation require 03 ingredients:\n",
    "1. Two tables, A __Left__ Table (empDF) and a __right__ table (deptDF)\n",
    "2. One or More predicates (conditions which determine how records between table are joined)\n",
    "3. Method to indicate how to Join on success of condition and what to do on failure of condition  \n",
    "Every join operation in PySpark will follow the abovementioned same blueprint  \n",
    "__[left_DF].join ( [Right_DF], on= [predicates], how= [method] )__"
   ]
  },
  {
   "cell_type": "markdown",
   "id": "7850ac8a-81df-49d6-9914-e2d70561c5e0",
   "metadata": {},
   "source": [
    "### The rules to a successful Joins: The Predicates"
   ]
  },
  {
   "cell_type": "markdown",
   "id": "006b1381-060b-4555-8617-64638e40acfc",
   "metadata": {},
   "source": [
    " - The predicates of a PySpark join are rules between columns of the left and right data frames\n",
    " - A join is performed record-wise.\n",
    " - each record on the left data frame is compared (via the predicates) to each record on the right data frame\n",
    "     - If the predicates return True, the join is a match  (what happens will be dictated by 'Method')\n",
    "     - if False then no-match (What happen will be dictated by Method)"
   ]
  },
  {
   "cell_type": "markdown",
   "id": "d2c93d4e-76a8-4b2c-ba32-bb1a048f7f9f",
   "metadata": {},
   "source": [
    "### Our Example "
   ]
  },
  {
   "cell_type": "markdown",
   "id": "9c8e8196-ef9a-4096-b685-b5ade5388138",
   "metadata": {},
   "source": [
    "For our two data frames, we will build the predicate\n",
    "***\n",
    "empDF[\"emp_dept_id\"] == deptDF['dept_id']. \n",
    "***\n",
    "In plain English, this translates to “match the records from the empDF data frame to the records from the deptDF data frame\n",
    "when the value of their **dept_id** column is equal.\n",
    "\n",
    "There are two important points to highlight.\n",
    "- If one record in Left *resolves predicate* with more than one record in right (vice versa),  this record will be duplicated in joined Table\n",
    "- if one record in left or right tables *does not resolve* predicate with any record in other table, it will not be present in resulting table __UNLESS__ the join method specifies a method for failed predicates"
   ]
  },
  {
   "cell_type": "code",
   "execution_count": 5,
   "id": "789eebcc-e9d1-40f6-9006-06a399caf432",
   "metadata": {},
   "outputs": [
    {
     "name": "stdout",
     "output_type": "stream",
     "text": [
      "Emp Count:6 -- Dept count : 4 \n"
     ]
    }
   ],
   "source": [
    "print(f\"Emp Count:{empDF.count()} -- Dept count : {deptDF.count()} \")"
   ]
  },
  {
   "cell_type": "code",
   "execution_count": 6,
   "id": "020f9758-0283-4ffc-87af-6617e60f9888",
   "metadata": {},
   "outputs": [
    {
     "data": {
      "text/plain": [
       "5"
      ]
     },
     "execution_count": 6,
     "metadata": {},
     "output_type": "execute_result"
    }
   ],
   "source": [
    "empDF.join(deptDF, on = empDF[\"emp_dept_id\"] == deptDF[\"dept_id\"]).count()"
   ]
  },
  {
   "cell_type": "code",
   "execution_count": 4,
   "id": "c58cccf5-6a28-456b-8f3d-0feb8d4ff8e6",
   "metadata": {},
   "outputs": [
    {
     "name": "stdout",
     "output_type": "stream",
     "text": [
      "+------+--------+---------------+-----------+-----------+------+------+---------+-------+\n",
      "|emp_id|    name|superior_emp_id|year_joined|emp_dept_id|gender|salary|dept_name|dept_id|\n",
      "+------+--------+---------------+-----------+-----------+------+------+---------+-------+\n",
      "|     1|   Smith|             -1|       2018|         10|     M|  3000|  Finance|     10|\n",
      "|     3|Williams|              1|       2010|         10|     M|  1000|  Finance|     10|\n",
      "|     4|   Jones|              2|       2005|         10|     F|  2000|  Finance|     10|\n",
      "|     2|    Rose|              1|       2010|         20|     M|  4000|Marketing|     20|\n",
      "|     5|   Brown|              2|       2010|         40|      |    -1|       IT|     40|\n",
      "+------+--------+---------------+-----------+-----------+------+------+---------+-------+\n",
      "\n"
     ]
    }
   ],
   "source": [
    "empDF.join(deptDF, on = empDF[\"emp_dept_id\"] == deptDF[\"dept_id\"]).show()"
   ]
  },
  {
   "cell_type": "markdown",
   "id": "b556f9b0-9f15-4538-b500-533aff4ce239",
   "metadata": {},
   "source": [
    "we can use multiple conditions by separating them with Boolean operators such as | (or) or & (and)"
   ]
  },
  {
   "cell_type": "code",
   "execution_count": 9,
   "id": "c225d4b5-3fa4-47be-a621-7d7e77a3c19a",
   "metadata": {},
   "outputs": [],
   "source": [
    "#logs.join(log_idfr, (logs[\"LogServiceID\"] == log_idfr[\"LogServiceID\"]) and (logs[\"left_col\"] < log_idfr[\"right_col\"])  )"
   ]
  },
  {
   "cell_type": "code",
   "execution_count": 10,
   "id": "6f61e34b-9e29-47f5-8008-13b086b369e1",
   "metadata": {},
   "outputs": [
    {
     "name": "stdout",
     "output_type": "stream",
     "text": [
      "+------+--------+---------------+-----------+-----------+------+------+\n",
      "|emp_id|    name|superior_emp_id|year_joined|emp_dept_id|gender|salary|\n",
      "+------+--------+---------------+-----------+-----------+------+------+\n",
      "|     1|   Smith|             -1|       2018|         10|     M|  3000|\n",
      "|     2|    Rose|              1|       2010|         20|     M|  4000|\n",
      "|     3|Williams|              1|       2010|         10|     M|  1000|\n",
      "|     4|   Jones|              2|       2005|         10|     F|  2000|\n",
      "|     5|   Brown|              2|       2010|         40|      |    -1|\n",
      "|     6|   Brown|              2|       2010|         50|      |    -1|\n",
      "+------+--------+---------------+-----------+-----------+------+------+\n",
      "\n"
     ]
    }
   ],
   "source": [
    "empDF.show()"
   ]
  },
  {
   "cell_type": "code",
   "execution_count": 11,
   "id": "1462fb83-7fe7-48b5-943e-6514f17958c5",
   "metadata": {},
   "outputs": [
    {
     "name": "stdout",
     "output_type": "stream",
     "text": [
      "+---------+-------+\n",
      "|dept_name|dept_id|\n",
      "+---------+-------+\n",
      "|  Finance|     10|\n",
      "|Marketing|     20|\n",
      "|    Sales|     30|\n",
      "|       IT|     40|\n",
      "+---------+-------+\n",
      "\n"
     ]
    }
   ],
   "source": [
    "deptDF.show()"
   ]
  },
  {
   "cell_type": "markdown",
   "id": "e9dbd99f-f7a1-4a16-95cd-89479a4cbf18",
   "metadata": {},
   "source": [
    "### INNER JOIN"
   ]
  },
  {
   "cell_type": "markdown",
   "id": "c437d8b7-004c-4b07-b800-4f939bbb5978",
   "metadata": {},
   "source": [
    "- Most Common Join\n",
    "- PySpark defaults to inner join if No eplicit method is passed.\n",
    "- returns a record if the predicate is true and drops it if false\n",
    "- duplicate recorcd in **Left_table** if it matches more than one records of **Right_table**"
   ]
  },
  {
   "cell_type": "code",
   "execution_count": 5,
   "id": "f0089634-590d-44a3-ae06-f97069ccd367",
   "metadata": {},
   "outputs": [
    {
     "name": "stdout",
     "output_type": "stream",
     "text": [
      "+------+--------+---------------+-----------+-----------+------+------+---------+-------+\n",
      "|emp_id|    name|superior_emp_id|year_joined|emp_dept_id|gender|salary|dept_name|dept_id|\n",
      "+------+--------+---------------+-----------+-----------+------+------+---------+-------+\n",
      "|     1|   Smith|             -1|       2018|         10|     M|  3000|  Finance|     10|\n",
      "|     3|Williams|              1|       2010|         10|     M|  1000|  Finance|     10|\n",
      "|     4|   Jones|              2|       2005|         10|     F|  2000|  Finance|     10|\n",
      "|     2|    Rose|              1|       2010|         20|     M|  4000|Marketing|     20|\n",
      "|     5|   Brown|              2|       2010|         40|      |    -1|       IT|     40|\n",
      "+------+--------+---------------+-----------+-----------+------+------+---------+-------+\n",
      "\n"
     ]
    }
   ],
   "source": [
    "empDF.join(deptDF, on=empDF[\"emp_dept_id\"] == deptDF[\"dept_id\"], how='inner').show()"
   ]
  },
  {
   "cell_type": "markdown",
   "id": "caa588c0-5181-432c-ab01-e9d7fedd05d0",
   "metadata": {},
   "source": [
    "- As mentioned, INNER join dropped 'emp_dept_id'=50 from empDF and 'dept_id'=30 from deptDF"
   ]
  },
  {
   "cell_type": "markdown",
   "id": "9602a642-07a9-420a-81ee-5c991bac0b48",
   "metadata": {},
   "source": [
    "### Left Join (Left Outer Join)"
   ]
  },
  {
   "cell_type": "markdown",
   "id": "f1e4a8c9-614f-4473-9b96-d3d5ed2aa66e",
   "metadata": {},
   "source": [
    "- Just like an INNER Join with only difference being:\n",
    "   - what happens when predicate (condition) is False   \n",
    "<br>   \n",
    "<br>\n",
    "- A **left join** adds unmatched records of **Left_table** in the Joined Table, filling columns from **Right_Table** with NULL"
   ]
  },
  {
   "cell_type": "code",
   "execution_count": 6,
   "id": "c9f26573-49dd-4e36-b8bb-4485d6b21400",
   "metadata": {},
   "outputs": [
    {
     "name": "stdout",
     "output_type": "stream",
     "text": [
      "+------+--------+---------------+-----------+-----------+------+------+---------+-------+\n",
      "|emp_id|    name|superior_emp_id|year_joined|emp_dept_id|gender|salary|dept_name|dept_id|\n",
      "+------+--------+---------------+-----------+-----------+------+------+---------+-------+\n",
      "|     1|   Smith|             -1|       2018|         10|     M|  3000|  Finance|     10|\n",
      "|     2|    Rose|              1|       2010|         20|     M|  4000|Marketing|     20|\n",
      "|     3|Williams|              1|       2010|         10|     M|  1000|  Finance|     10|\n",
      "|     4|   Jones|              2|       2005|         10|     F|  2000|  Finance|     10|\n",
      "|     5|   Brown|              2|       2010|         40|      |    -1|       IT|     40|\n",
      "|     6|   Brown|              2|       2010|         50|      |    -1|     null|   null|\n",
      "+------+--------+---------------+-----------+-----------+------+------+---------+-------+\n",
      "\n"
     ]
    }
   ],
   "source": [
    "#leftouter\n",
    "empDF.join(deptDF, on = empDF['emp_dept_id']== deptDF['dept_id'], how='leftouter').show()"
   ]
  },
  {
   "cell_type": "markdown",
   "id": "9c01b138-9357-4ddd-a4dd-ed805651fb45",
   "metadata": {},
   "source": [
    "### Right Join (Right Outer Join)"
   ]
  },
  {
   "cell_type": "markdown",
   "id": "9431fa77-471f-4b1f-8237-dd67fc08c9ac",
   "metadata": {},
   "source": [
    "- Just like an INNER Join with only difference being:\n",
    "   - what happens when predicate (condition) is False   \n",
    "<br>   \n",
    "<br>\n",
    "- A right join adds unmatched records of **Right_Table** in the Joined Table, filling columns from **Left_Table** with NULL    "
   ]
  },
  {
   "cell_type": "code",
   "execution_count": 7,
   "id": "8ac4ddbc-431c-4cf5-aad5-6e3495db675c",
   "metadata": {},
   "outputs": [
    {
     "name": "stdout",
     "output_type": "stream",
     "text": [
      "+------+--------+---------------+-----------+-----------+------+------+---------+-------+\n",
      "|emp_id|    name|superior_emp_id|year_joined|emp_dept_id|gender|salary|dept_name|dept_id|\n",
      "+------+--------+---------------+-----------+-----------+------+------+---------+-------+\n",
      "|     4|   Jones|              2|       2005|         10|     F|  2000|  Finance|     10|\n",
      "|     3|Williams|              1|       2010|         10|     M|  1000|  Finance|     10|\n",
      "|     1|   Smith|             -1|       2018|         10|     M|  3000|  Finance|     10|\n",
      "|     2|    Rose|              1|       2010|         20|     M|  4000|Marketing|     20|\n",
      "|  null|    null|           null|       null|       null|  null|  null|    Sales|     30|\n",
      "|     5|   Brown|              2|       2010|         40|      |    -1|       IT|     40|\n",
      "+------+--------+---------------+-----------+-----------+------+------+---------+-------+\n",
      "\n"
     ]
    }
   ],
   "source": [
    "#rightouter\n",
    "empDF.join(deptDF, on=empDF['emp_dept_id']== deptDF['dept_id'], how='rightouter').show()"
   ]
  },
  {
   "cell_type": "markdown",
   "id": "9e7e7601-2347-4bc7-8fde-164ddb5d5d0d",
   "metadata": {},
   "source": [
    "### Full Outer Join"
   ]
  },
  {
   "cell_type": "markdown",
   "id": "3ed9b041-1fba-4a58-9647-ea3e30062681",
   "metadata": {},
   "source": [
    "- Simply a fusion of both left and right Join\n",
    "- add unmatched records from both **Left_table** and **Right_Table** padding with NULL"
   ]
  },
  {
   "cell_type": "code",
   "execution_count": 8,
   "id": "e9ffb4d1-c868-4392-8dac-34851b21634c",
   "metadata": {},
   "outputs": [
    {
     "name": "stdout",
     "output_type": "stream",
     "text": [
      "+------+--------+---------------+-----------+-----------+------+------+---------+-------+\n",
      "|emp_id|    name|superior_emp_id|year_joined|emp_dept_id|gender|salary|dept_name|dept_id|\n",
      "+------+--------+---------------+-----------+-----------+------+------+---------+-------+\n",
      "|     1|   Smith|             -1|       2018|         10|     M|  3000|  Finance|     10|\n",
      "|     3|Williams|              1|       2010|         10|     M|  1000|  Finance|     10|\n",
      "|     4|   Jones|              2|       2005|         10|     F|  2000|  Finance|     10|\n",
      "|     2|    Rose|              1|       2010|         20|     M|  4000|Marketing|     20|\n",
      "|  null|    null|           null|       null|       null|  null|  null|    Sales|     30|\n",
      "|     5|   Brown|              2|       2010|         40|      |    -1|       IT|     40|\n",
      "|     6|   Brown|              2|       2010|         50|      |    -1|     null|   null|\n",
      "+------+--------+---------------+-----------+-----------+------+------+---------+-------+\n",
      "\n"
     ]
    }
   ],
   "source": [
    "#outer, full, fullouter\n",
    "empDF.join(deptDF, on=empDF['emp_dept_id']== deptDF['dept_id'], how='full_outer').show()"
   ]
  },
  {
   "cell_type": "markdown",
   "id": "f54a4e3a-8530-48b1-99d6-40a720527aff",
   "metadata": {},
   "source": [
    "### Left Semi-Join "
   ]
  },
  {
   "cell_type": "markdown",
   "id": "05e42bd5-d1e6-4517-9202-e8c1f9f61328",
   "metadata": {},
   "source": [
    "- Same as INNER Join except:\n",
    "    - Keeps the columns of the left table\n",
    "    - won’t duplicate the records in the left table\n",
    "<br>\n",
    "<br>\n",
    "- Its main purpose is to filter records from a table based on a predicate that is depending on another table"
   ]
  },
  {
   "cell_type": "code",
   "execution_count": 19,
   "id": "4402e299-1bf6-40fb-8631-e8d080b6acf1",
   "metadata": {},
   "outputs": [
    {
     "name": "stdout",
     "output_type": "stream",
     "text": [
      "+------+--------+---------------+-----------+-----------+------+------+\n",
      "|emp_id|    name|superior_emp_id|year_joined|emp_dept_id|gender|salary|\n",
      "+------+--------+---------------+-----------+-----------+------+------+\n",
      "|     1|   Smith|             -1|       2018|         10|     M|  3000|\n",
      "|     3|Williams|              1|       2010|         10|     M|  1000|\n",
      "|     4|   Jones|              2|       2005|         10|     F|  2000|\n",
      "|     2|    Rose|              1|       2010|         20|     M|  4000|\n",
      "|     5|   Brown|              2|       2010|         40|      |    -1|\n",
      "+------+--------+---------------+-----------+-----------+------+------+\n",
      "\n"
     ]
    }
   ],
   "source": [
    "empDF.join(deptDF, on=empDF['emp_dept_id']== deptDF['dept_id'], how='left_semi').show()\n",
    "# The column deptDF['dept_id'] is NOT part of the results"
   ]
  },
  {
   "cell_type": "markdown",
   "id": "5d851d74-9736-45c6-a6f9-6886cb4d799f",
   "metadata": {},
   "source": [
    "### Left Anti Join"
   ]
  },
  {
   "cell_type": "markdown",
   "id": "7637e65f-ae15-4b78-8738-88df24a4dd31",
   "metadata": {},
   "source": [
    "- Opposite of INNER Join\n",
    "    - keep only the records from **left_table** that **dont match** the predicate with any record in **right table**"
   ]
  },
  {
   "cell_type": "code",
   "execution_count": 9,
   "id": "189cb10c-28c9-4325-ab03-b772f1588bbb",
   "metadata": {},
   "outputs": [
    {
     "name": "stdout",
     "output_type": "stream",
     "text": [
      "+------+-----+---------------+-----------+-----------+------+------+\n",
      "|emp_id| name|superior_emp_id|year_joined|emp_dept_id|gender|salary|\n",
      "+------+-----+---------------+-----------+-----------+------+------+\n",
      "|     6|Brown|              2|       2010|         50|      |    -1|\n",
      "+------+-----+---------------+-----------+-----------+------+------+\n",
      "\n"
     ]
    }
   ],
   "source": [
    "empDF.join(deptDF, on=empDF['emp_dept_id']== deptDF['dept_id'], how='left_anti').show()"
   ]
  },
  {
   "cell_type": "markdown",
   "id": "0a5964cd-89a5-4e63-b879-8718de75ab2d",
   "metadata": {},
   "source": [
    " ### Cross Join"
   ]
  },
  {
   "cell_type": "markdown",
   "id": "02052c06-7e09-4460-a788-9207baa318cc",
   "metadata": {},
   "source": [
    " - returns a record for every record pair, regardless of the value the predicates return"
   ]
  },
  {
   "cell_type": "code",
   "execution_count": 11,
   "id": "0fbe8fd9-e071-492d-8a20-01031abfc2a4",
   "metadata": {},
   "outputs": [
    {
     "name": "stdout",
     "output_type": "stream",
     "text": [
      "+------+--------+---------------+-----------+-----------+------+------+---------+-------+\n",
      "|emp_id|    name|superior_emp_id|year_joined|emp_dept_id|gender|salary|dept_name|dept_id|\n",
      "+------+--------+---------------+-----------+-----------+------+------+---------+-------+\n",
      "|     1|   Smith|             -1|       2018|         10|     M|  3000|  Finance|     10|\n",
      "|     3|Williams|              1|       2010|         10|     M|  1000|  Finance|     10|\n",
      "|     4|   Jones|              2|       2005|         10|     F|  2000|  Finance|     10|\n",
      "|     2|    Rose|              1|       2010|         20|     M|  4000|Marketing|     20|\n",
      "|     5|   Brown|              2|       2010|         40|      |    -1|       IT|     40|\n",
      "+------+--------+---------------+-----------+-----------+------+------+---------+-------+\n",
      "\n"
     ]
    }
   ],
   "source": [
    "empDF.join(deptDF, on=empDF['emp_dept_id']== deptDF['dept_id'], how='cross').show(20)"
   ]
  },
  {
   "cell_type": "markdown",
   "id": "1f7dcc4e-351d-4891-8b1d-925f8fc6d7ff",
   "metadata": {},
   "source": [
    "## Spark SQL"
   ]
  },
  {
   "cell_type": "code",
   "execution_count": 11,
   "id": "81d0e235-9bfb-42c2-a378-313f27ce11b7",
   "metadata": {},
   "outputs": [
    {
     "name": "stdout",
     "output_type": "stream",
     "text": [
      "+------+--------+---------------+-----------+-----------+------+------+---------+-------+\n",
      "|emp_id|name    |superior_emp_id|year_joined|emp_dept_id|gender|salary|dept_name|dept_id|\n",
      "+------+--------+---------------+-----------+-----------+------+------+---------+-------+\n",
      "|1     |Smith   |-1             |2018       |10         |M     |3000  |Finance  |10     |\n",
      "|3     |Williams|1              |2010       |10         |M     |1000  |Finance  |10     |\n",
      "|4     |Jones   |2              |2005       |10         |F     |2000  |Finance  |10     |\n",
      "|2     |Rose    |1              |2010       |20         |M     |4000  |Marketing|20     |\n",
      "|5     |Brown   |2              |2010       |40         |      |-1    |IT       |40     |\n",
      "+------+--------+---------------+-----------+-----------+------+------+---------+-------+\n",
      "\n",
      "+------+--------+---------------+-----------+-----------+------+------+---------+-------+\n",
      "|emp_id|name    |superior_emp_id|year_joined|emp_dept_id|gender|salary|dept_name|dept_id|\n",
      "+------+--------+---------------+-----------+-----------+------+------+---------+-------+\n",
      "|1     |Smith   |-1             |2018       |10         |M     |3000  |Finance  |10     |\n",
      "|3     |Williams|1              |2010       |10         |M     |1000  |Finance  |10     |\n",
      "|4     |Jones   |2              |2005       |10         |F     |2000  |Finance  |10     |\n",
      "|2     |Rose    |1              |2010       |20         |M     |4000  |Marketing|20     |\n",
      "|5     |Brown   |2              |2010       |40         |      |-1    |IT       |40     |\n",
      "+------+--------+---------------+-----------+-----------+------+------+---------+-------+\n",
      "\n"
     ]
    }
   ],
   "source": [
    "empDF.createOrReplaceTempView(\"EMP\")\n",
    "deptDF.createOrReplaceTempView(\"DEPT\")\n",
    "\n",
    "joinDF = spark.sql(\"select * from EMP e, DEPT d where e.emp_dept_id == d.dept_id\") \\\n",
    "  .show(truncate=False)\n",
    "\n",
    "joinDF2 = spark.sql(\"select * from EMP e INNER JOIN DEPT d ON e.emp_dept_id == d.dept_id\") \\\n",
    "  .show(truncate=False)"
   ]
  },
  {
   "cell_type": "code",
   "execution_count": null,
   "id": "6fe6273d-5678-42df-8f77-ba4c912a5604",
   "metadata": {},
   "outputs": [],
   "source": []
  }
 ],
 "metadata": {
  "kernelspec": {
   "display_name": "Python 3 (ipykernel)",
   "language": "python",
   "name": "python3"
  },
  "language_info": {
   "codemirror_mode": {
    "name": "ipython",
    "version": 3
   },
   "file_extension": ".py",
   "mimetype": "text/x-python",
   "name": "python",
   "nbconvert_exporter": "python",
   "pygments_lexer": "ipython3",
   "version": "3.10.6"
  }
 },
 "nbformat": 4,
 "nbformat_minor": 5
}
